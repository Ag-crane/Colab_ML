{
 "cells": [
  {
   "cell_type": "code",
   "execution_count": 9,
   "id": "89950c8b",
   "metadata": {},
   "outputs": [],
   "source": [
    " import numpy as np\n",
    "    # ctrl + enter\n",
    "    # [*] : 실행중\n",
    "    # [1] : 실행 완료, 몇 번째 실행했는지"
   ]
  },
  {
   "cell_type": "code",
   "execution_count": 11,
   "id": "b9724970",
   "metadata": {},
   "outputs": [
    {
     "name": "stdout",
     "output_type": "stream",
     "text": [
      "(3,)\n",
      "[1 2 3]\n",
      "[[1 2]\n",
      " [3 4]]\n",
      "[[1 2 3]\n",
      " [4 5 6]]\n"
     ]
    }
   ],
   "source": [
    "#새로운 array를 생성\n",
    "# 1차원 = vector, 2차원 = matrix\n",
    "# https://pasus.tistory.com/106\n",
    "\n",
    "a = np.array([1,2,3]) # 1차원 벡터 생성. 벡터는 행인지 열인지 의미가 없음\n",
    "print(a.shape) # python은 디폴트로 행벡터가 생성되지만, (1,3)이 아니라 (3.)로 표시\n",
    "A=np.array([[1,2],[3,4]]) # 2x2의 2차원 행렬 생성\n",
    "B=np.array([[1,2,3],[4,5,6]]) #2x3의 2차원 행렬 생성\n",
    "print(a)\n",
    "print(A)\n",
    "print(B)"
   ]
  },
  {
   "cell_type": "code",
   "execution_count": 12,
   "id": "5a3e03b7",
   "metadata": {},
   "outputs": [
    {
     "name": "stdout",
     "output_type": "stream",
     "text": [
      "[[0. 0. 0. 0.]\n",
      " [0. 0. 0. 0.]\n",
      " [0. 0. 0. 0.]]\n",
      "[[1. 1. 1. 1. 1.]\n",
      " [1. 1. 1. 1. 1.]]\n",
      "[[100 100]\n",
      " [100 100]\n",
      " [100 100]]\n"
     ]
    }
   ],
   "source": [
    "# 0, 1 또는 특정한 값으로 초기화\n",
    "# 괄호 안에 다시 괄호가 있음 주의\n",
    "\n",
    "X = np.zeros((3,4)) # 3x4의 0으로 가득찬 행렬\n",
    "Y = np.ones((2,5)) # 2x5의 1로 가득찬 행렬\n",
    "Z = np.full((3,2),100) # 첫번쨰 인자의 shape으로, 두번째 인자로 가득찬 행렬\n",
    "\n",
    "print(X)\n",
    "print(Y)\n",
    "print(Z)"
   ]
  },
  {
   "cell_type": "code",
   "execution_count": 13,
   "id": "b7720470",
   "metadata": {},
   "outputs": [
    {
     "name": "stdout",
     "output_type": "stream",
     "text": [
      "[0 1 2 3 4 5 6 7 8 9]\n",
      "[0 3 6 9]\n"
     ]
    }
   ],
   "source": [
    "# np.arange(시작하는 값, 마지막 값(디폴트 = 포함x), 증가량(디폴트 = 1))\n",
    "x = np.arange(0,10)\n",
    "y = np.arange(0,10,3)\n",
    "\n",
    "print(x)\n",
    "print(y)"
   ]
  },
  {
   "cell_type": "code",
   "execution_count": 7,
   "id": "eb310eca",
   "metadata": {},
   "outputs": [
    {
     "name": "stdout",
     "output_type": "stream",
     "text": [
      "[ 0.   2.5  5.   7.5 10. ]\n",
      "[ 0.   2.5  5.   7.5 10. ]\n",
      "[0. 2. 4. 6. 8.]\n"
     ]
    }
   ],
   "source": [
    "# np.linspace(시작하는 값, 마지막 값(디폴트 = 포함o), 전체 개수)\n",
    "x = np.linspace(0, 10, 5)\n",
    "z1 = np.linspace(0, 10, 5, endpoint = True)\n",
    "z2 = np.linspace(0, 10, 5, endpoint = False)\n",
    "\n",
    "print(x)\n",
    "print(z1)\n",
    "print(z2)"
   ]
  },
  {
   "cell_type": "code",
   "execution_count": 16,
   "id": "4f0fed8d",
   "metadata": {},
   "outputs": [
    {
     "name": "stdout",
     "output_type": "stream",
     "text": [
      "[[0.52487791 0.40149924 0.70079751]\n",
      " [0.55582744 0.93253536 0.86157272]]\n",
      "[[ 0.09208814 -0.30727183 -0.47690448]\n",
      " [ 1.21464313 -0.65271839  1.20571087]]\n"
     ]
    }
   ],
   "source": [
    "# random으로 샘플 생성\n",
    "X = np.random.rand(2,3)  # [0,1] 사이의 uniform distribution을 따르는 랜덤 샘플 생성 (확률이 모두 동일)\n",
    "Y = np.random.randn(2,3) # [평균=0, 분산=1]인 Normal distribution을 따르는 랜덤 샘플 생성\n",
    "\n",
    "print(X)\n",
    "print(Y)"
   ]
  },
  {
   "cell_type": "code",
   "execution_count": 18,
   "id": "c4c1cdd4",
   "metadata": {},
   "outputs": [
    {
     "name": "stdout",
     "output_type": "stream",
     "text": [
      "1 (3,) 3\n",
      "2 (2, 3) 6\n",
      "[1. 1. 1.]\n",
      "[[1. 1. 1.]\n",
      " [1. 1. 1.]]\n"
     ]
    }
   ],
   "source": [
    "# np.ndarray에 있는 속성들\n",
    "z = np.ones(3)  # 1차원 array = 벡터\n",
    "Z = np.ones((2,3)) # 2차원 array = 행렬\n",
    "\n",
    "# ndim : 1 = 벡터, 2 = 행렬 'n dimension'\n",
    "# shape : [몇 행, ] or [몇 행, 몇 열]\n",
    "# size : 전체 스칼라의 개수 = 행x열\n",
    "print(z.ndim, z.shape, z.size)\n",
    "print(Z.ndim, Z.shape, Z.size)\n",
    "\n",
    "print(z)\n",
    "print(Z)"
   ]
  },
  {
   "cell_type": "code",
   "execution_count": 20,
   "id": "c3b2ba7e",
   "metadata": {},
   "outputs": [
    {
     "name": "stdout",
     "output_type": "stream",
     "text": [
      "[ 0  1  2  3  4  5  6  7  8  9 10 11]\n",
      "[[ 0  1  2]\n",
      " [ 3  4  5]\n",
      " [ 6  7  8]\n",
      " [ 9 10 11]]\n",
      "[[ 0  1]\n",
      " [ 2  3]\n",
      " [ 4  5]\n",
      " [ 6  7]\n",
      " [ 8  9]\n",
      " [10 11]]\n"
     ]
    }
   ],
   "source": [
    "# reshape \n",
    "\n",
    "a=np.arange(0, 12) # 1차원 벡터, 12x1\n",
    "b=a.reshape(4,3) # a를 4x3으로 reshape. 행부터 채운다\n",
    "c=b.reshape(6,2)\n",
    "# d=c.reshape(5,2) => size가 안맞아 오류\n",
    "\n",
    "print(a)\n",
    "print(b)\n",
    "print(c)"
   ]
  },
  {
   "cell_type": "code",
   "execution_count": 23,
   "id": "ca941622",
   "metadata": {
    "scrolled": true
   },
   "outputs": [
    {
     "name": "stdout",
     "output_type": "stream",
     "text": [
      "[[ 0  1  2  3]\n",
      " [ 4  5  6  7]\n",
      " [ 8  9 10 11]]\n",
      "3\n",
      "[ 3  7 11]\n",
      "[0 1]\n",
      "11\n",
      "6\n",
      "[6]\n",
      "[5 6]\n",
      "[[ 6  7]\n",
      " [10 11]]\n"
     ]
    }
   ],
   "source": [
    "# array의 값에 접근하는 방법\n",
    "a = np.arange(0,12) # 1차원 벡터, 12x1\n",
    "a = a.reshape(3,4)\n",
    "\n",
    "print(a)\n",
    "print(a[0, 3]) # 0부터 세는거 주의\n",
    "print(a[0:3, 3]) # a[[0, 2], 3] = 1행~3행, 4열\n",
    "print(a[0, 0:2]) # a[0. [0,1]] = 1행 , 1열~2열\n",
    "\n",
    "print(a[-1, -1]) # -1 = 마지막 위치, [-1,-1] = 마지막 행, 마지막 열\n",
    "print(a[-2, -2]) # -2 = 마지막에서 두 번째, [-2, -2] = 마지막에서 두 번째 행, 마지막에서 두 번째 열\n",
    "print(a[1:-1, -2]) # a[1:2. -2] = a[1, -2]\n",
    "print(a[1, 1:-1]) # a[1, 1:3] = a[1, [1,2]]\n",
    "\n",
    "print(a[1:, 2:]) # 2행~마지막행, 3열~마지막열"
   ]
  },
  {
   "cell_type": "code",
   "execution_count": 8,
   "id": "33173287",
   "metadata": {
    "scrolled": false
   },
   "outputs": [
    {
     "data": {
      "text/plain": [
       "<matplotlib.collections.PathCollection at 0x1af2f2a90a0>"
      ]
     },
     "execution_count": 8,
     "metadata": {},
     "output_type": "execute_result"
    },
    {
     "data": {
      "image/png": "[encoded data removed]",
      "text/plain": [
       "<Figure size 432x288 with 1 Axes>"
      ]
     },
     "metadata": {
      "needs_background": "light"
     },
     "output_type": "display_data"
    },
    {
     "data": {
      "image/png": "[encoded data removed]",
      "text/plain": [
       "<Figure size 432x288 with 1 Axes>"
      ]
     },
     "metadata": {
      "needs_background": "light"
     },
     "output_type": "display_data"
    }
   ],
   "source": [
    "import matplotlib.pyplot as plt\n",
    "\n",
    "x = np.linspace(0,10, 100)\n",
    "y = 2*x\n",
    "z = 2*x + np.random.randn(100) # 노이즈 추가\n",
    "\n",
    "# plt.plot(가로축, 세로축) : 순서대로 직선으로 연결\n",
    "plt.figure() # 새 그림판\n",
    "plt.plot(x,y) \n",
    "plt.plot(x,z) \n",
    "\n",
    "# plt.scatter(가로축, 세로축) : 점을 찍음\n",
    "plt.figure()\n",
    "plt.scatter(x,z)"
   ]
  }
 ],
 "metadata": {
  "kernelspec": {
   "display_name": "Python 3 (ipykernel)",
   "language": "python",
   "name": "python3"
  },
  "language_info": {
   "codemirror_mode": {
    "name": "ipython",
    "version": 3
   },
   "file_extension": ".py",
   "mimetype": "text/x-python",
   "name": "python",
   "nbconvert_exporter": "python",
   "pygments_lexer": "ipython3",
   "version": "3.7.13"
  }
 },
 "nbformat": 4,
 "nbformat_minor": 5
}
